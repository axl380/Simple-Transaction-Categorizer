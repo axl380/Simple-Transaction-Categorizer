{
 "cells": [
  {
   "cell_type": "markdown",
   "metadata": {},
   "source": [
    "# U.S. Credit Card Transaction Synthetic Dataset\n",
    "Open-source financial datasets often suffer from encoding, making them hard to interpret and analyze. A significant limitation I faced when using a synthetic dataset from Kaggle was the lack of variety in merchants. This resulted in misclassifications of specific transactions. For example, Sam's Club was categorized as a restaurant instead of retail, while Costco (a direct competitor) was correctly classified as such. This issue arose because Sam's Club was not included in the dataset.\n",
    "\n",
    "To address these challenges, I created a synthetic dataset to improve the accuracy of my original model. It will include a wide variety of merchants to enhance the ability to generalize to unseen data. It will also be easier to interpret with clear, meaningful columns that align with real-world U.S. credit card transactions.\n",
    "\n",
    "## Notebook Outline\n",
    "1. Importing Libraries\n",
    "2. Dataset Schemas and Helper Functions.\n",
    "3. Generating the Synthetic Dataset.\n",
    "4. Save the dataset to a CSV file."
   ]
  },
  {
   "cell_type": "markdown",
   "metadata": {},
   "source": [
    "## 1. Importing Libraries\n",
    "\n",
    "We import the necessary libraries for generating and exploring the synthetic data."
   ]
  },
  {
   "cell_type": "code",
   "execution_count": 1,
   "metadata": {},
   "outputs": [],
   "source": [
    "# Imports and Setup\n",
    "\n",
    "import pandas as pd\n",
    "import random\n",
    "import uuid\n",
    "from faker import Faker\n",
    "from datetime import datetime, timedelta\n",
    "\n",
    "# Initialize Faker for realistic data generation\n",
    "fake = Faker()\n",
    "Faker.seed(42)\n",
    "random.seed(42)"
   ]
  },
  {
   "cell_type": "markdown",
   "metadata": {},
   "source": [
    "## 2. Dataset Schemas and Helper Functions\n",
    "| **Column Name**        | **Description**                                                                                      |\n",
    "|-------------------------|----------------------------------------------------------------------------------------------------|\n",
    "| `transaction_id`        | Unique identifier for each transaction.                                                            |\n",
    "| `customer_id`           | Unique identifier for the customer.                                                               |\n",
    "| `card_number`           | Last 4 digits of the customer's credit card.                                                      |\n",
    "| `timestamp`             | Date and time of the transaction.                                                                 |\n",
    "| `merchant_category`     | Category of the merchant (e.g., Groceries, Dining, Travel).                                       |\n",
    "| `merchant`              | Name of the merchant (e.g., Walmart, Amazon, Starbucks).                                          |\n",
    "| `amount`                | Transaction amount in USD.                                                                        |\n",
    "| `card_provider`         | Issuing company (e.g., Visa, Mastercard, Discover, American Express).                             |\n",
    "| `card_present`          | Whether the card was physically present (Boolean: `True` or `False`).                             |\n",
    "| `device`                | Device used for the transaction (e.g., Mobile, Desktop, POS).                                     |\n",
    "| `channel`               | Transaction channel (e.g., In-store, Online, Mobile App).                                         |\n",
    "\n",
    "We will also utilize helper functions to generate random transaction IDs, customer IDs, and simulate realistic spending patterns."
   ]
  },
  {
   "cell_type": "code",
   "execution_count": 31,
   "metadata": {},
   "outputs": [
    {
     "name": "stdout",
     "output_type": "stream",
     "text": [
      "0b00e337-bbb8-40e9-bdf5-50bdbb88d69f CUST-5453 4312\n"
     ]
    }
   ],
   "source": [
    "# Testing helper functions for generating random data\n",
    "def generate_transaction_id():\n",
    "    return str(uuid.uuid4())\n",
    "\n",
    "def generate_customer_id():\n",
    "    return f\"CUST-{random.randint(1000, 9999)}\"\n",
    "\n",
    "def generate_card_number():\n",
    "    return f\"{random.randint(1000, 9999)}\"\n",
    "\n",
    "# Example of function usage\n",
    "print(generate_transaction_id(), generate_customer_id(), generate_card_number())"
   ]
  },
  {
   "cell_type": "markdown",
   "metadata": {},
   "source": [
    "## 3. Generating the Synthetic Dataset\n",
    "\n",
    "This code will create a synthetic dataset containing 50,000 transactions. Each transaction will include:\n",
    "- Merchant name and category.\n",
    "- Transaction amount.\n",
    "- Whether the card was physically present, etc."
   ]
  },
  {
   "cell_type": "code",
   "execution_count": 32,
   "metadata": {},
   "outputs": [],
   "source": [
    "# Dictonary of real merchants for generating realistic data\n",
    "# TODO: Add more merchants to each category\n",
    "# TODO: Transition to using a database for merchant data\n",
    "categories = {\n",
    "    'Groceries': {\n",
    "        'limits': (10, 200),\n",
    "        'merchants': ['Walmart', 'Trader Joe\\'s', 'Kroger', 'Safeway', 'Whole Foods', 'Publix', 'H-E-B', 'Aldi', 'Wegmans', 'Meijer', 'Sprouts', 'WinCo Foods', 'Flea Market', 'Farmers Market', 'Groceries', 'Grocery Outlet', 'Grocery Store']},\n",
    "    'Fast Food': {\n",
    "        'limits': (5, 50),\n",
    "        'merchants': ['McDonald\\'s', 'Starbucks', 'Subway', 'Chipotle', 'Taco Bell', 'Chick-fil-A', 'In-N-Out', 'Raising Cane\\'s', 'Burger King', 'Panda Express', 'Culvers', 'Dunkin\\'', 'Sonic', 'Wingstop', 'Jersey Mike\\'s', 'Shake Shack', 'Papa John\\'s', 'Little Ceasar\\'s', 'Domino\\'s', 'Pizza Hut', 'Pizza', 'Chicken Nuggets', 'Burgers', 'Fries', 'Fast Food']},\n",
    "    'Restaurants': {\n",
    "        'limits': (20, 250),\n",
    "        'merchants': ['Olive Garden', 'Chili\\'s', 'Red Lobster', 'Applebee\\'s', 'Cheesecake Factory', 'Texas Roadhouse', 'Outback Steakhouse', 'Buffalo Wild Wings', 'Denny\\'s', 'IHOP', 'Cracker Barrel', 'Golden Corral', 'Red Robin', 'The Melting Pot', 'Dave & Buster\\'s', 'Ruth\\'s Chris Steakhouse', 'Nobu', 'Capital Grille', 'Benihana\\'s', 'Buffet', 'Steak', 'Wine', 'Restaurant', 'Dining', 'Dinner', 'Lunch', 'Breakfast']},\n",
    "    'Airlines':{\n",
    "        'limits': (150, 2000),\n",
    "        'merchants': ['United Airlines', 'United', 'Delta Airlines', 'American Airlines', 'Southwest Airlines', 'Alaska Airlines', 'JetBlue', 'Hawaiian Airlines', 'Spirit Airlines', 'Frontier Airlines', 'Allegiant Air', 'Breeze Airways', 'Cape Air', 'Air Canada', 'WestJet', 'Volaris', 'Aeromexico', 'LATAM', 'Avianca', 'Copa Airlines', 'British Airways', 'Lufthansa', 'Iberia', 'Turkish Airlines', 'Air France', 'KLM', 'Qantas', 'Emirates', 'Etihad', 'Qatar Airways', 'Cathay Pacific', 'Singapore Airlines', 'Korean Air', 'ANA', 'Japan Airlines', 'Airlines', 'Airline', 'Flight', 'Airplane', 'Airport', 'Travel']},\n",
    "    'Hotels': {\n",
    "        'limits': (100, 2000),\n",
    "        'merchants': ['Marriott', 'Hilton', 'Hyatt', 'Best Western', 'Motel 6', 'Holiday Inn', 'Fairmont', 'Four Seasons', 'La Quinta', 'Motel', 'Hotel', 'Inn']},\n",
    "    'Gas': {\n",
    "        'limits': (20, 200),\n",
    "        'merchants': ['Chevron', 'Shell', 'Exxon', '76', 'ARCO', 'BP', 'Speedway', 'Murphy USA', 'Local Gas Station', 'Gas Station', 'Fuel', 'Gas']},\n",
    "    'Retail': {\n",
    "        'limits': (20, 1500),\n",
    "        'merchants': ['Amazon', 'Target', 'Best Buy', 'Apple', 'DoorDash', 'Costco', 'Sam\\'s Club', 'Home Depot', 'Lowe\\'s', 'Nordstrom', 'Macy\\'s', 'Kohl\\'s', 'JCPenney', 'Sears', 'Kmart', 'Dollar Tree', 'Dollar General', 'Family Dollar', '99 Cents Only', 'Dollar Store', 'Clothes', 'Men\\'s Wearhouse', 'Women\\'s Wearhouse', 'REI', 'Burlington', 'Gucci', 'Louis Vuitton', 'Chanel', 'Prada', 'Saks Fifth Avenue', 'TJ Maxx', 'Ross', 'H&M', 'Uniqlo', 'eBay', 'Wayfair', 'Etsy', 'SHEIN', 'Temu', 'AliExpress', 'ASOS', 'HelloFresh', 'BarkBox', 'Stitch Fix', 'InstaCart', 'Shoes', 'Electronics', 'Appliances', 'Furniture', 'Home Goods', 'Retail', 'Store', 'Shop', 'Mall', 'Outlet']},\n",
    "    'Wireless': {\n",
    "        'limits': (20, 300),\n",
    "        'merchants': ['Verizon', 'AT&T', 'T-Mobile', 'Sprint', 'Boost Mobile', 'Cricket Wireless', 'MetroPCS', 'Wireless', 'Mint Mobile', 'Visible', 'Google Fi', 'Wireless Store', 'Wireless Shop']},\n",
    "    'Utilities': {\n",
    "        'limits': (50, 500),\n",
    "        'merchants': ['Comcast', 'PG&E', 'SCE', 'Water Co', 'Gas', 'Electric', 'Utilities', 'Charter', 'Spectrum', 'Internet', 'Cable', 'Phone', 'Cell Phone', 'Wireless', 'Landline', 'TV', 'Streaming', 'Streaming Service', 'Streaming Platform']},\n",
    "    'Health': {\n",
    "        'limits': (50, 500),\n",
    "        'merchants': ['Kaiser', 'Sutter Health', 'CVS', 'Walgreens', 'Rite Aid', 'Urgent Care', 'Cigna', 'Blue Cross', 'United Healthcare', 'Doctor', 'Hospital', 'Pharmacy']},\n",
    "    'Entertainment': {\n",
    "        'limits': (10, 250),\n",
    "        'merchants': ['Netflix', 'Hulu', 'Disney+', 'HBO', 'Spotify', 'Apple Music', 'Audible', 'Crunchyroll', 'Paramount+', 'YouTube', 'Twitch', 'Steam', 'Max', 'Prime Video', 'AMC', 'Cinemark', 'Regal', 'Theater', 'Concert', 'Event', 'Ticket', 'StubHub', 'Live Nation', 'Nintendo', 'PlayStation', 'Xbox', 'GameStop', 'Game Store', 'Game Shop', 'Game', 'Entertainment', 'Movies', 'Music', 'Gaming']},\n",
    "    'Transportation': {\n",
    "        'limits': (5, 250),\n",
    "        'merchants': ['Lyft', 'Uber', 'Taxi', 'Bus', 'Train', 'Transportation', 'Ride Share', 'BART', 'Caltrain', 'VTA', 'Enterprise', 'Hertz', 'Avis', 'Turo', 'Zipcar', 'Car Rental', 'Rental Car', 'Getaround', 'Scooter', 'Bike', 'Lime', 'Bird', 'Spin', 'Scoot', 'Via', 'Wingz', 'Curb', 'BlaBlaCar']},\n",
    "    'Education': {\n",
    "        'limits': (50, 5000),\n",
    "        'merchants': ['UC Berkeley', 'Stanford', 'SJSU', 'Ohio State', 'UT Austin', 'University of Florida', 'Penn State', 'UPenn', 'Dartmouth', 'Cornell', 'OSU', 'Michigan', 'UCLA', 'Yale', 'Princeton', 'WashU', 'Saint Louis University', 'SLU', 'NYU', 'Harvard', 'Foothill College', 'Education', 'Books', 'School', 'Supplies', 'Tuition', 'Chegg', 'Textbooks', 'Bookstore', 'Coursera', 'Udemy', 'EdX', 'LinkedIn Learning', 'Skillshare', 'Masterclass', 'Khan Academy', 'Education Platform', 'Education Service', 'Private School', 'Public School', 'College', 'University', 'Community College', 'Trade School', 'Vocational School', 'Online School', 'Online Course', 'Online Education', 'Online Learning', 'Online Platform', 'Online Service']},\n",
    "}"
   ]
  },
  {
   "cell_type": "markdown",
   "metadata": {},
   "source": [
    "Helper functions."
   ]
  },
  {
   "cell_type": "code",
   "execution_count": 33,
   "metadata": {},
   "outputs": [],
   "source": [
    "# Initialize Faker for realistic data generation\n",
    "fake = Faker()\n",
    "\n",
    "# Helper functions\n",
    "def generate_transaction_id():\n",
    "    return str(uuid.uuid4())\n",
    "\n",
    "def generate_customer_id():\n",
    "    return f\"CUST-{random.randint(1000, 9999)}\"\n",
    "\n",
    "def generate_card_number():\n",
    "    return f\"{random.randint(1000, 9999)}\"\n",
    "\n",
    "def generate_timestamp():\n",
    "    return fake.date_time_between(start_date='-1y', end_date='now').strftime('%Y-%m-%d %H:%M:%S')\n",
    "\n",
    "def generate_card_provider():\n",
    "    return random.choice(['VISA', 'MasterCard', 'American Express', 'Discover'])\n",
    "\n",
    "def generate_channel():\n",
    "    return random.choice(['Online', 'Physical'])\n",
    "\n",
    "def generate_device(channel):\n",
    "    if channel == 'Online':\n",
    "        return random.choice(['Mobile', 'Desktop', 'Tablet'])\n",
    "    else:\n",
    "        return random.choice(['Mobile', 'Tablet', 'Desktop', 'POS'])\n",
    "\n",
    "def generate_category():\n",
    "    return random.choice(list(categories.keys()))\n",
    "\n",
    "def generate_amount(category):\n",
    "    low, high = categories[category]['limits']\n",
    "    return round(random.uniform(low, high), 2)\n",
    "\n",
    "def generate_merchant(category):\n",
    "    return random.choice(categories[category]['merchants'])\n"
   ]
  },
  {
   "cell_type": "markdown",
   "metadata": {},
   "source": [
    "Generate a Single Transaction."
   ]
  },
  {
   "cell_type": "code",
   "execution_count": 34,
   "metadata": {},
   "outputs": [],
   "source": [
    "def generate_transaction_row():\n",
    "    # Select a random category.\n",
    "    category = generate_category()\n",
    "\n",
    "    # Select a channel and device.\n",
    "    channel = generate_channel()\n",
    "    device = generate_device(channel)\n",
    "\n",
    "    # Generate a single transaction record.\n",
    "    return {\n",
    "        'transaction_id': generate_transaction_id(),\n",
    "        'customer_id': generate_customer_id(),\n",
    "        'card_number': generate_card_number(),\n",
    "        'timestamp': generate_timestamp(),\n",
    "        'merchant_category': category,\n",
    "        'merchant_name': generate_merchant(category),\n",
    "        'amount': generate_amount(category),\n",
    "        'card_provider': generate_card_provider(),\n",
    "        'channel': channel,\n",
    "        'device': device\n",
    "    }"
   ]
  },
  {
   "cell_type": "markdown",
   "metadata": {},
   "source": [
    "Function to generate full dataset."
   ]
  },
  {
   "cell_type": "code",
   "execution_count": 35,
   "metadata": {},
   "outputs": [],
   "source": [
    "def generate_synthetic_dataset(num_transactions=10000):\n",
    "    # Generate a list of transactions.\n",
    "    transactions = [generate_transaction_row() for _ in range(num_transactions)]\n",
    "\n",
    "    # Create a DataFrame from the list of transactions.\n",
    "    return pd.DataFrame(transactions)"
   ]
  },
  {
   "cell_type": "markdown",
   "metadata": {},
   "source": [
    "Generate dataset."
   ]
  },
  {
   "cell_type": "code",
   "execution_count": 36,
   "metadata": {},
   "outputs": [],
   "source": [
    "df = generate_synthetic_dataset(75000)"
   ]
  },
  {
   "cell_type": "markdown",
   "metadata": {},
   "source": [
    "Data Exploration."
   ]
  },
  {
   "cell_type": "code",
   "execution_count": 37,
   "metadata": {},
   "outputs": [
    {
     "name": "stdout",
     "output_type": "stream",
     "text": [
      "                         transaction_id customer_id card_number  \\\n",
      "0  feec7465-afb5-4de2-9c73-3a753004b084   CUST-2219        5173   \n",
      "1  2273843f-df20-4532-a295-f4daed302890   CUST-1938        2099   \n",
      "2  8a732724-0eb6-4a77-a3c7-1fbac59542a3   CUST-3634        2146   \n",
      "3  83562abd-848f-4e03-99a6-f19a12a4c6d9   CUST-9425        7495   \n",
      "4  4a52fa36-00a4-438d-af9d-446e6d1f5918   CUST-7861        1539   \n",
      "\n",
      "             timestamp merchant_category merchant_name  amount  \\\n",
      "0  2024-04-10 22:19:27          Wireless        Sprint  138.02   \n",
      "1  2025-01-13 16:15:58         Groceries        Kroger  168.69   \n",
      "2  2024-03-07 07:08:36          Wireless  Boost Mobile   30.60   \n",
      "3  2024-07-25 12:07:13         Groceries  Trader Joe's  155.86   \n",
      "4  2024-12-21 15:58:34         Education     Princeton  609.30   \n",
      "\n",
      "      card_provider   channel   device  \n",
      "0              VISA  Physical      POS  \n",
      "1  American Express  Physical  Desktop  \n",
      "2          Discover  Physical      POS  \n",
      "3              VISA  Physical   Mobile  \n",
      "4              VISA    Online   Tablet  \n"
     ]
    }
   ],
   "source": [
    "print(df.head())"
   ]
  },
  {
   "cell_type": "markdown",
   "metadata": {},
   "source": [
    "## 4. Save Dataset to CSV."
   ]
  },
  {
   "cell_type": "code",
   "execution_count": 38,
   "metadata": {},
   "outputs": [
    {
     "name": "stdout",
     "output_type": "stream",
     "text": [
      "Dataset saved to CSV.\n"
     ]
    }
   ],
   "source": [
    "df.to_csv('../data/synthetic_transactions.csv', index=False)\n",
    "print(\"Dataset saved to CSV.\")"
   ]
  }
 ],
 "metadata": {
  "kernelspec": {
   "display_name": ".venv",
   "language": "python",
   "name": "python3"
  },
  "language_info": {
   "codemirror_mode": {
    "name": "ipython",
    "version": 3
   },
   "file_extension": ".py",
   "mimetype": "text/x-python",
   "name": "python",
   "nbconvert_exporter": "python",
   "pygments_lexer": "ipython3",
   "version": "3.13.1"
  }
 },
 "nbformat": 4,
 "nbformat_minor": 2
}
