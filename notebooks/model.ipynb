{
 "cells": [
  {
   "cell_type": "markdown",
   "metadata": {},
   "source": [
    "# Model\n",
    "Based on the original model I built for the initial v0.1.0 release, I transitioned to a synthetic dataset specifically designed for this project. The model architecture and training process have been refined, leading to improved accuracy. Notably, Sam's Club is now correctly categorized as **Retail** instead of **Restaurant**.\n",
    "\n",
    "## Notebook Outline\n",
    "1. **Load & Explore Data**\n",
    "2. **Tokenize Merchant Names & Prepare Vocabulary**\n",
    "3. **Convert Data to PyTorch Tensors**\n",
    "4. **Define Model**\n",
    "5. **Train Model**\n",
    "6. **Make Predictions**\n",
    "7. **Export Model and Vocab**"
   ]
  },
  {
   "cell_type": "markdown",
   "metadata": {},
   "source": [
    "## 1. Load and Explore Data"
   ]
  },
  {
   "cell_type": "code",
   "execution_count": 2,
   "metadata": {},
   "outputs": [
    {
     "name": "stdout",
     "output_type": "stream",
     "text": [
      "                         transaction_id customer_id  card_number  \\\n",
      "0  feec7465-afb5-4de2-9c73-3a753004b084   CUST-2219         5173   \n",
      "1  2273843f-df20-4532-a295-f4daed302890   CUST-1938         2099   \n",
      "2  8a732724-0eb6-4a77-a3c7-1fbac59542a3   CUST-3634         2146   \n",
      "3  83562abd-848f-4e03-99a6-f19a12a4c6d9   CUST-9425         7495   \n",
      "4  4a52fa36-00a4-438d-af9d-446e6d1f5918   CUST-7861         1539   \n",
      "\n",
      "             timestamp merchant_category merchant_name  amount  \\\n",
      "0  2024-04-10 22:19:27          Wireless        Sprint  138.02   \n",
      "1  2025-01-13 16:15:58         Groceries        Kroger  168.69   \n",
      "2  2024-03-07 07:08:36          Wireless  Boost Mobile   30.60   \n",
      "3  2024-07-25 12:07:13         Groceries  Trader Joe's  155.86   \n",
      "4  2024-12-21 15:58:34         Education     Princeton  609.30   \n",
      "\n",
      "      card_provider   channel   device  \n",
      "0              VISA  Physical      POS  \n",
      "1  American Express  Physical  Desktop  \n",
      "2          Discover  Physical      POS  \n",
      "3              VISA  Physical   Mobile  \n",
      "4              VISA    Online   Tablet  \n"
     ]
    }
   ],
   "source": [
    "import pandas as pd\n",
    "\n",
    "# Load your dataset\n",
    "df = pd.read_csv(\"../data/synthetic_transactions.csv\")\n",
    "\n",
    "# Print the first few rows\n",
    "print(df.head())\n"
   ]
  },
  {
   "cell_type": "markdown",
   "metadata": {},
   "source": [
    "## 2. Tokenize Merchant Names & Prepare Vocabulary"
   ]
  },
  {
   "cell_type": "code",
   "execution_count": 3,
   "metadata": {},
   "outputs": [
    {
     "name": "stdout",
     "output_type": "stream",
     "text": [
      "Vocabulary Size: 392\n",
      "Example Tokenized Merchant: ['sprint'] → [1]\n"
     ]
    }
   ],
   "source": [
    "import re\n",
    "from collections import Counter\n",
    "\n",
    "# Tokenize merchant names into words\n",
    "def tokenize_merchant(merchant):\n",
    "    merchant = str(merchant).lower()  # Ensure it's a string\n",
    "    merchant = re.sub(r\"[^a-z0-9 ]\", \"\", merchant)  # Remove special characters\n",
    "    return merchant.split()\n",
    "\n",
    "# Apply tokenization\n",
    "df[\"merchant_tokens\"] = df[\"merchant_name\"].apply(tokenize_merchant)\n",
    "\n",
    "# Build vocabulary from all merchant names\n",
    "all_tokens = [token for tokens in df[\"merchant_tokens\"] for token in tokens]\n",
    "token_counts = Counter(all_tokens)\n",
    "vocab = {word: idx + 1 for idx, (word, count) in enumerate(token_counts.items())}  # +1 to reserve 0 for padding\n",
    "\n",
    "# Add \"unknown\" token to vocab (CS50P structure)\n",
    "if \"unknown\" not in vocab:\n",
    "    vocab[\"unknown\"] = len(vocab) + 1  \n",
    "\n",
    "# Encode merchants as sequences of token IDs\n",
    "df[\"merchant_encoded\"] = df[\"merchant_tokens\"].apply(lambda tokens: [vocab.get(token, vocab[\"unknown\"]) for token in tokens])\n",
    "\n",
    "# Print Sample\n",
    "print(f\"Vocabulary Size: {len(vocab)}\")\n",
    "print(f\"Example Tokenized Merchant: {df.iloc[0]['merchant_tokens']} → {df.iloc[0]['merchant_encoded']}\")"
   ]
  },
  {
   "cell_type": "markdown",
   "metadata": {},
   "source": [
    "## 3. Convert Data to PyTorch Tensors"
   ]
  },
  {
   "cell_type": "code",
   "execution_count": 4,
   "metadata": {},
   "outputs": [
    {
     "name": "stdout",
     "output_type": "stream",
     "text": [
      "Train Shape: torch.Size([60000, 10]), Validation Shape: torch.Size([15000, 10])\n"
     ]
    }
   ],
   "source": [
    "import torch\n",
    "from torch.nn.utils.rnn import pad_sequence\n",
    "from sklearn.preprocessing import LabelEncoder\n",
    "from sklearn.model_selection import train_test_split\n",
    "\n",
    "# Encode merchant categories (target labels)\n",
    "category_encoder = LabelEncoder()\n",
    "df[\"merchant_category_encoded\"] = category_encoder.fit_transform(df[\"merchant_category\"])\n",
    "\n",
    "# Convert tokenized merchant names into padded tensors\n",
    "def encode_and_pad(tokens, max_length=10):\n",
    "    token_ids = [vocab.get(token, vocab[\"unknown\"]) for token in tokens]\n",
    "    padded_tensor = torch.zeros(max_length, dtype=torch.long)\n",
    "    padded_tensor[:len(token_ids)] = torch.tensor(token_ids[:max_length], dtype=torch.long)\n",
    "    return padded_tensor\n",
    "\n",
    "df[\"padded_tokens\"] = df[\"merchant_tokens\"].apply(lambda x: encode_and_pad(x, max_length=10))\n",
    "\n",
    "# Convert categories to tensor\n",
    "category_tensors = torch.tensor(df[\"merchant_category_encoded\"].values, dtype=torch.long)\n",
    "\n",
    "# Train-test split\n",
    "X_train, X_val, y_train, y_val = train_test_split(df[\"padded_tokens\"].tolist(), category_tensors, test_size=0.2, random_state=42)\n",
    "\n",
    "# Convert lists to tensors\n",
    "X_train = torch.stack(X_train)\n",
    "X_val = torch.stack(X_val)\n",
    "\n",
    "print(f\"Train Shape: {X_train.shape}, Validation Shape: {X_val.shape}\")"
   ]
  },
  {
   "cell_type": "markdown",
   "metadata": {},
   "source": [
    "## 4. Define Model"
   ]
  },
  {
   "cell_type": "code",
   "execution_count": 5,
   "metadata": {},
   "outputs": [
    {
     "name": "stdout",
     "output_type": "stream",
     "text": [
      "TransactionClassifier(\n",
      "  (embedding): Embedding(394, 32, padding_idx=0)\n",
      "  (fc1): Linear(in_features=32, out_features=64, bias=True)\n",
      "  (relu): ReLU()\n",
      "  (dropout): Dropout(p=0.3, inplace=False)\n",
      "  (fc2): Linear(in_features=64, out_features=13, bias=True)\n",
      ")\n"
     ]
    }
   ],
   "source": [
    "import torch.nn as nn\n",
    "\n",
    "class TransactionClassifier(nn.Module):\n",
    "    def __init__(self, vocab_size, embed_dim, hidden_size, output_size):\n",
    "        super().__init__()\n",
    "        self.embedding = nn.Embedding(vocab_size + 1, embed_dim, padding_idx=0)  \n",
    "        self.fc1 = nn.Linear(embed_dim, hidden_size)\n",
    "        self.relu = nn.ReLU()\n",
    "        self.dropout = nn.Dropout(0.3)  \n",
    "        self.fc2 = nn.Linear(hidden_size, output_size)\n",
    "\n",
    "    def forward(self, x):\n",
    "        x = self.embedding(x).mean(dim=1)  # Averaging token embeddings\n",
    "        x = self.relu(self.fc1(x))\n",
    "        x = self.dropout(x)\n",
    "        x = self.fc2(x)\n",
    "        return x\n",
    "\n",
    "# Model Parameters (CS50P Settings)\n",
    "device = torch.device(\"cuda\" if torch.cuda.is_available() else \"cpu\")\n",
    "vocab_size = len(vocab) + 1 \n",
    "embed_dim = 32  \n",
    "hidden_size = 64  \n",
    "output_size = len(df[\"merchant_category\"].unique())  \n",
    "\n",
    "# Initialize Model\n",
    "model = TransactionClassifier(vocab_size, embed_dim, hidden_size, output_size).to(device)\n",
    "print(model)"
   ]
  },
  {
   "cell_type": "markdown",
   "metadata": {},
   "source": [
    "## 5. Train Model"
   ]
  },
  {
   "cell_type": "code",
   "execution_count": 6,
   "metadata": {},
   "outputs": [
    {
     "name": "stdout",
     "output_type": "stream",
     "text": [
      "Epoch [1/20], Loss: 0.8841\n",
      "Epoch [2/20], Loss: 0.0447\n",
      "Epoch [3/20], Loss: 0.0210\n",
      "Epoch [4/20], Loss: 0.0165\n",
      "Epoch [5/20], Loss: 0.0152\n",
      "Epoch [6/20], Loss: 0.0143\n",
      "Epoch [7/20], Loss: 0.0138\n",
      "Epoch [8/20], Loss: 0.0139\n",
      "Epoch [9/20], Loss: 0.0136\n",
      "Epoch [10/20], Loss: 0.0136\n",
      "Epoch [11/20], Loss: 0.0135\n",
      "Epoch [12/20], Loss: 0.0134\n",
      "Epoch [13/20], Loss: 0.0134\n",
      "Epoch [14/20], Loss: 0.0133\n",
      "Epoch [15/20], Loss: 0.0135\n",
      "Epoch [16/20], Loss: 0.0133\n",
      "Epoch [17/20], Loss: 0.0134\n",
      "Epoch [18/20], Loss: 0.0133\n",
      "Epoch [19/20], Loss: 0.0133\n",
      "Epoch [20/20], Loss: 0.0132\n"
     ]
    }
   ],
   "source": [
    "import torch.optim as optim\n",
    "from torch.utils.data import TensorDataset, DataLoader\n",
    "\n",
    "# Create PyTorch Dataloaders\n",
    "batch_size = 32\n",
    "train_dataset = TensorDataset(X_train, y_train)\n",
    "val_dataset = TensorDataset(X_val, y_val)\n",
    "train_loader = DataLoader(train_dataset, batch_size=batch_size, shuffle=True)\n",
    "val_loader = DataLoader(val_dataset, batch_size=batch_size, shuffle=False)\n",
    "\n",
    "# Loss function & optimizer\n",
    "criterion = nn.CrossEntropyLoss()\n",
    "optimizer = optim.Adam(model.parameters(), lr=0.001)\n",
    "\n",
    "# Training loop\n",
    "epochs = 20\n",
    "for epoch in range(epochs):\n",
    "    model.train()\n",
    "    total_loss = 0\n",
    "    \n",
    "    for merchant_batch, labels in train_loader:\n",
    "        merchant_batch, labels = merchant_batch.to(device), labels.to(device)\n",
    "        \n",
    "        optimizer.zero_grad()\n",
    "        outputs = model(merchant_batch)\n",
    "        loss = criterion(outputs, labels)\n",
    "        loss.backward()\n",
    "        optimizer.step()\n",
    "        \n",
    "        total_loss += loss.item()\n",
    "    \n",
    "    print(f\"Epoch [{epoch+1}/{epochs}], Loss: {total_loss / len(train_loader):.4f}\")"
   ]
  },
  {
   "cell_type": "markdown",
   "metadata": {},
   "source": [
    "## 6. Make Predictions"
   ]
  },
  {
   "cell_type": "code",
   "execution_count": 7,
   "metadata": {},
   "outputs": [
    {
     "name": "stdout",
     "output_type": "stream",
     "text": [
      "Test Transactions: ['Sams Club', 'Amazon', 'United', \"McDonald's\", 'Target']\n",
      "Predicted Categories: ['Retail', 'Retail', 'Airlines', 'Fast Food', 'Retail']\n"
     ]
    }
   ],
   "source": [
    "import numpy as np\n",
    "\n",
    "def predict_transaction(model, merchant, vocab, category_list):\n",
    "    \"\"\"\n",
    "    Predicts the category of a transaction using padded merchant names.\n",
    "    \"\"\"\n",
    "    try:\n",
    "        # Tokenize & encode merchant name\n",
    "        tokens = tokenize_merchant(merchant)\n",
    "        token_ids = [vocab.get(token, vocab[\"unknown\"]) for token in tokens]\n",
    "        padded_tokens = torch.zeros(1, 10, dtype=torch.long)\n",
    "        padded_tokens[:, :len(token_ids)] = torch.tensor(token_ids[:10], dtype=torch.long)\n",
    "\n",
    "        # Predict category\n",
    "        model.eval()\n",
    "        with torch.no_grad():\n",
    "            output = model(padded_tokens.to(device))\n",
    "            _, predicted = torch.max(output, 1)  # Get most confident category\n",
    "\n",
    "        predicted_category_index = int(predicted.item())  # Convert tensor to Python int\n",
    "        predicted_category = category_list[predicted_category_index]  # Map index to category name\n",
    "\n",
    "        return predicted_category\n",
    "\n",
    "    except Exception as e:\n",
    "        print(f\"Error during prediction: {e}\")\n",
    "        return None\n",
    "\n",
    "\n",
    "# Run Predictions\n",
    "test_merchants = [\"Sams Club\", \"Amazon\", \"United\", \"McDonald's\", \"Target\"]\n",
    "predicted_categories = [predict_transaction(model, m, vocab, category_encoder.classes_) for m in test_merchants]\n",
    "\n",
    "print(f\"Test Transactions: {test_merchants}\")\n",
    "print(f\"Predicted Categories: {predicted_categories}\")"
   ]
  },
  {
   "cell_type": "markdown",
   "metadata": {},
   "source": [
    "## 7. Export Model and Vocab"
   ]
  },
  {
   "cell_type": "code",
   "execution_count": 9,
   "metadata": {},
   "outputs": [],
   "source": [
    "import torch\n",
    "import pickle\n",
    "\n",
    "# Save the trained model\n",
    "torch.save(model.state_dict(), '../model/trained_model.pth')\n",
    "\n",
    "# Save the tokenizer/vocabulary\n",
    "with open('../model/tokenizer.pkl', 'wb') as f:\n",
    "    pickle.dump(vocab, f)"
   ]
  }
 ],
 "metadata": {
  "kernelspec": {
   "display_name": ".venv",
   "language": "python",
   "name": "python3"
  },
  "language_info": {
   "codemirror_mode": {
    "name": "ipython",
    "version": 3
   },
   "file_extension": ".py",
   "mimetype": "text/x-python",
   "name": "python",
   "nbconvert_exporter": "python",
   "pygments_lexer": "ipython3",
   "version": "3.13.1"
  }
 },
 "nbformat": 4,
 "nbformat_minor": 2
}
